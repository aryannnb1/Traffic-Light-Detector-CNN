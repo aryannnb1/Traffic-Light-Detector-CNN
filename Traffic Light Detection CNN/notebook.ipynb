{
 "cells": [
  {
   "cell_type": "code",
   "execution_count": null,
   "id": "9472ea0b",
   "metadata": {},
   "outputs": [],
   "source": [
    "import numpy as np\n",
    "import matplotlib.pyplot as plt\n",
    "from tensorflow import keras\n",
    "from tensorflow.keras.models import Model\n",
    "from tensorflow.keras.layers import Input, AveragePooling2D, Flatten, Dense, Dropout, Conv2D\n",
    "\n",
    "image, labels = np.load('batch.npy',allow_pickle=True).tolist()\n",
    "image = image.astype('float32')/255.0\n",
    "\n",
    "input_size = image.shape[1] \n",
    "num_classes = labels['classifier_head'].shape[1] \n",
    "DROPOUT_FACTOR = 0.2 \n",
    "\n",
    "plt.imshow(image[2])\n",
    "plt.axis(\"off\")"
   ]
  },
  {
   "cell_type": "code",
   "execution_count": null,
   "id": "9b1cdfda-3ddf-47a6-82c9-5964d979ecbf",
   "metadata": {
    "executionCancelledAt": null,
    "executionTime": 9130,
    "lastExecutedAt": 1739803141282,
    "lastExecutedByKernel": "63f1d539-8519-4e86-a419-f3ca20d1e058",
    "lastScheduledRunId": null,
    "lastSuccessfullyExecutedCode": "# Create a sequential model - a linear stack of layers\nmodel = keras.Sequential()\nmodel.add(Conv2D(16, kernel_size=3, activation='relu', input_shape=(input_size, input_size, 3)))\nmodel.add(AveragePooling2D(2, 2))\nmodel.add(Conv2D(32, kernel_size=3, activation='relu'))\nmodel.add(keras.layers.AveragePooling2D(2, 2))\nmodel.add(Conv2D(64, kernel_size=3, activation='relu'))\nmodel.add(Dropout(DROPOUT_FACTOR))\nmodel.add(AveragePooling2D(2, 2))\n\nmodel.add(Flatten())\nmodel.add(Dense(64, activation='relu'))\n\nmodel.add(Dense(64, activation='relu'))\nmodel.add(Dense(num_classes, activation='softmax', name='classifier_head'))\n\nmodel.compile(optimizer='adam',\n              loss='categorical_crossentropy',\n              metrics=['accuracy'])\n\nhistory = model.fit(image, labels['classifier_head'], epochs=20)\n\naccuracy = history.history['accuracy'][-1]\nprint(f\"Training accuracy: {accuracy}\")",
    "outputsMetadata": {
     "0": {
      "height": 501,
      "type": "stream"
     }
    }
   },
   "outputs": [
    {
     "name": "stdout",
     "output_type": "stream",
     "text": [
      "Epoch 1/20\n",
      "1/1 [==============================] - 1s 707ms/step - loss: 0.6975 - accuracy: 0.5000\n",
      "Epoch 2/20\n",
      "1/1 [==============================] - 0s 418ms/step - loss: 0.6014 - accuracy: 0.9167\n",
      "Epoch 3/20\n",
      "1/1 [==============================] - 0s 404ms/step - loss: 0.4691 - accuracy: 0.6667\n",
      "Epoch 4/20\n",
      "1/1 [==============================] - 0s 468ms/step - loss: 0.4142 - accuracy: 0.7500\n",
      "Epoch 5/20\n",
      "1/1 [==============================] - 0s 405ms/step - loss: 0.1611 - accuracy: 1.0000\n",
      "Epoch 6/20\n",
      "1/1 [==============================] - 0s 402ms/step - loss: 0.1302 - accuracy: 1.0000\n",
      "Epoch 7/20\n",
      "1/1 [==============================] - 0s 481ms/step - loss: 0.0472 - accuracy: 1.0000\n",
      "Epoch 8/20\n",
      "1/1 [==============================] - 0s 420ms/step - loss: 0.0140 - accuracy: 1.0000\n",
      "Epoch 9/20\n",
      "1/1 [==============================] - 0s 491ms/step - loss: 0.0117 - accuracy: 1.0000\n",
      "Epoch 10/20\n",
      "1/1 [==============================] - 0s 408ms/step - loss: 0.0104 - accuracy: 1.0000\n",
      "Epoch 11/20\n",
      "1/1 [==============================] - 0s 489ms/step - loss: 0.0036 - accuracy: 1.0000\n",
      "Epoch 12/20\n",
      "1/1 [==============================] - 0s 406ms/step - loss: 6.3032e-04 - accuracy: 1.0000\n",
      "Epoch 13/20\n",
      "1/1 [==============================] - 0s 401ms/step - loss: 1.6009e-04 - accuracy: 1.0000\n",
      "Epoch 14/20\n",
      "1/1 [==============================] - 0s 402ms/step - loss: 5.1515e-05 - accuracy: 1.0000\n",
      "Epoch 15/20\n",
      "1/1 [==============================] - 0s 478ms/step - loss: 1.8705e-05 - accuracy: 1.0000\n",
      "Epoch 16/20\n",
      "1/1 [==============================] - 0s 411ms/step - loss: 9.7153e-06 - accuracy: 1.0000\n",
      "Epoch 17/20\n",
      "1/1 [==============================] - 0s 484ms/step - loss: 6.1094e-06 - accuracy: 1.0000\n",
      "Epoch 18/20\n",
      "1/1 [==============================] - 0s 430ms/step - loss: 3.3875e-06 - accuracy: 1.0000\n",
      "Epoch 19/20\n",
      "1/1 [==============================] - 0s 477ms/step - loss: 3.6756e-06 - accuracy: 1.0000\n",
      "Epoch 20/20\n",
      "1/1 [==============================] - 0s 402ms/step - loss: 3.5961e-06 - accuracy: 1.0000\n",
      "Training accuracy: 1.0\n"
     ]
    }
   ],
   "source": [
    "model = keras.Sequential()\n",
    "model.add(Conv2D(16, kernel_size=3, activation='relu', input_shape=(input_size, input_size, 3)))\n",
    "model.add(AveragePooling2D(2, 2))\n",
    "model.add(Conv2D(32, kernel_size=3, activation='relu'))\n",
    "model.add(keras.layers.AveragePooling2D(2, 2))\n",
    "model.add(Conv2D(64, kernel_size=3, activation='relu'))\n",
    "model.add(Dropout(DROPOUT_FACTOR))\n",
    "model.add(AveragePooling2D(2, 2))\n",
    "\n",
    "model.add(Flatten())\n",
    "model.add(Dense(64, activation='relu'))\n",
    "\n",
    "model.add(Dense(64, activation='relu'))\n",
    "model.add(Dense(num_classes, activation='softmax', name='classifier_head'))\n",
    "\n",
    "model.compile(optimizer='adam',\n",
    "              loss='categorical_crossentropy',\n",
    "              metrics=['accuracy'])\n",
    "\n",
    "history = model.fit(image, labels['classifier_head'], epochs=20)\n",
    "\n",
    "accuracy = history.history['accuracy'][-1]\n",
    "print(f\"Training accuracy: {accuracy}\")"
   ]
  }
 ],
 "metadata": {
  "colab": {
   "name": "Welcome to DataCamp Workspaces.ipynb",
   "provenance": []
  },
  "kernelspec": {
   "display_name": "Python 3 (ipykernel)",
   "language": "python",
   "name": "python3"
  },
  "language_info": {
   "codemirror_mode": {
    "name": "ipython",
    "version": 3
   },
   "file_extension": ".py",
   "mimetype": "text/x-python",
   "name": "python",
   "nbconvert_exporter": "python",
   "pygments_lexer": "ipython3",
   "version": "3.8.10"
  }
 },
 "nbformat": 4,
 "nbformat_minor": 5
}
